{
  "nbformat": 4,
  "nbformat_minor": 0,
  "metadata": {
    "colab": {
      "provenance": [],
      "gpuType": "T4"
    },
    "kernelspec": {
      "name": "python3",
      "display_name": "Python 3"
    },
    "language_info": {
      "name": "python"
    },
    "accelerator": "GPU"
  },
  "cells": [
    {
      "cell_type": "code",
      "source": [
        "import pandas as pd\n",
        "from sklearn.model_selection import train_test_split\n",
        "from sklearn.ensemble import RandomForestRegressor\n",
        "from sklearn.metrics import r2_score\n",
        "from time import perf_counter\n",
        "from contextlib import contextmanager\n",
        "\n",
        "def load_and_preprocess_data():\n",
        "    df = pd.read_csv('student_data.csv').dropna().drop_duplicates(keep=\"first\")\n",
        "\n",
        "    categorical_columns = df.select_dtypes(include=['object']).columns\n",
        "    df = pd.get_dummies(df, columns=categorical_columns, drop_first=True)\n",
        "\n",
        "    y = df['G3']\n",
        "    X = df.drop('G3', axis=1)\n",
        "    return train_test_split(X, y, train_size=0.8, shuffle=True, random_state=271)\n",
        "\n",
        "@contextmanager\n",
        "def timing():\n",
        "    start_time = perf_counter()\n",
        "    yield lambda: perf_counter() - start_time\n",
        "    print(f'Time: {perf_counter() - start_time:.3f} seconds')\n",
        "\n",
        "def train_random_forest_regressor(X_train, Y_train):\n",
        "    return RandomForestRegressor(max_depth=10, min_samples_split=10, n_estimators=100, random_state=271).fit(X_train, Y_train)\n",
        "\n",
        "def evaluate_model_predictions(model, X, Y, dataset_name):\n",
        "    predictions = model.predict(X)\n",
        "    r2_result = r2_score(Y, predictions)\n",
        "    print(f'R2 {dataset_name}: {r2_result}')\n",
        "\n",
        "def main():\n",
        "    X_train, X_test, Y_train, Y_test = load_and_preprocess_data()\n",
        "\n",
        "    with timing():\n",
        "        random_forest = train_random_forest_regressor(X_train, Y_train)\n",
        "\n",
        "    evaluate_model_predictions(random_forest, X_train, Y_train, 'train')\n",
        "    evaluate_model_predictions(random_forest, X_test, Y_test, 'test')\n",
        "\n",
        "if __name__ == \"__main__\":\n",
        "    main()\n"
      ],
      "metadata": {
        "colab": {
          "base_uri": "https://localhost:8080/"
        },
        "id": "DXfnhsjob15q",
        "outputId": "8cf72849-680f-4759-dd46-277f8b9c0376"
      },
      "execution_count": 170,
      "outputs": [
        {
          "output_type": "stream",
          "name": "stdout",
          "text": [
            "Time: 0.299 seconds\n",
            "R2 train: 0.951781674694076\n",
            "R2 test: 0.8321989640495713\n"
          ]
        }
      ]
    },
    {
      "cell_type": "code",
      "source": [
        "import pandas as pd\n",
        "from sklearn.model_selection import train_test_split\n",
        "from sklearn.ensemble import GradientBoostingRegressor\n",
        "from sklearn.metrics import r2_score\n",
        "from time import perf_counter\n",
        "from contextlib import contextmanager\n",
        "\n",
        "def load_and_preprocess_data():\n",
        "    df = pd.read_csv('student_data.csv').dropna().drop_duplicates(keep=\"first\")\n",
        "\n",
        "    categorical_columns = df.select_dtypes(include=['object']).columns\n",
        "    df = pd.get_dummies(df, columns=categorical_columns, drop_first=True)\n",
        "\n",
        "    y = df['G3']\n",
        "    X = df.drop('G3', axis=1)\n",
        "    return train_test_split(X, y, train_size=0.8, shuffle=True, random_state=271)\n",
        "\n",
        "@contextmanager\n",
        "def timing():\n",
        "    start_time = perf_counter()\n",
        "    yield lambda: perf_counter() - start_time\n",
        "    print(f'Time: {perf_counter() - start_time:.3f} seconds')\n",
        "\n",
        "def train_gradient_boosting_regressor(X_train, Y_train):\n",
        "    params = {\n",
        "        'n_estimators': 5000,\n",
        "        'learning_rate': 0.01,\n",
        "        'max_depth': 10,\n",
        "        'min_samples_split': 10,\n",
        "        'random_state': 271\n",
        "    }\n",
        "    return GradientBoostingRegressor(**params).fit(X_train, Y_train)\n",
        "\n",
        "def evaluate_model_predictions(model, X, Y, dataset_name):\n",
        "    predictions = model.predict(X)\n",
        "    r2_result = r2_score(Y, predictions)\n",
        "    print(f'R2 {dataset_name}: {r2_result}')\n",
        "\n",
        "def main():\n",
        "    X_train, X_test, Y_train, Y_test = load_and_preprocess_data()\n",
        "\n",
        "    with timing():\n",
        "        gradient_boosting = train_gradient_boosting_regressor(X_train, Y_train)\n",
        "\n",
        "    evaluate_model_predictions(gradient_boosting, X_train, Y_train, 'train')\n",
        "    evaluate_model_predictions(gradient_boosting, X_test, Y_test, 'test')\n",
        "\n",
        "if __name__ == \"__main__\":\n",
        "    main()\n"
      ],
      "metadata": {
        "colab": {
          "base_uri": "https://localhost:8080/"
        },
        "id": "kebrfjb22mhX",
        "outputId": "85c309c7-cfe0-488e-d3e8-d6a26fc24103"
      },
      "execution_count": 185,
      "outputs": [
        {
          "output_type": "stream",
          "name": "stdout",
          "text": [
            "Time: 9.172 seconds\n",
            "R2 train: 1.0\n",
            "R2 test: 0.8355770090300072\n"
          ]
        }
      ]
    }
  ]
}